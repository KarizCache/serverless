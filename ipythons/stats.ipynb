{
 "cells": [
  {
   "cell_type": "code",
   "execution_count": 30,
   "metadata": {},
   "outputs": [
    {
     "name": "stdout",
     "output_type": "stream",
     "text": [
      "local read: 3533530999.5277524, remote read: 22016000000\n",
      "# of tasks: 252\n",
      "Transmit time: 820.6578586101532\n",
      "Cpu time: 45727.60876202583\n",
      "Remote read: 22016000000\n"
     ]
    }
   ],
   "source": [
    "import json\n",
    "import ast\n",
    "\n",
    "\n",
    "\n",
    "\n",
    "def build_job_from_file(histfile):\n",
    "    name_to_task = {}\n",
    "    with open(histfile, 'r') as fd:\n",
    "        taskstat = ast.literal_eval(fd.read())\n",
    "        cpu_time = 0\n",
    "        transfer_time = 0\n",
    "        remote_read = 0\n",
    "        local_read = 0     \n",
    "        for name in taskstat:\n",
    "            output_size = taskstat[name]['msg']['nbytes']\n",
    "            worker = taskstat[name]['worker']\n",
    "            for ss in taskstat[name]['msg']['startstops']:\n",
    "                if ss['action'] == 'compute': \n",
    "                    cpu_time += ss['stop'] - ss['start'] \n",
    "                elif ss['action'] == 'transfer': \n",
    "                #    print(f'dest: {worker}, source: {ss[\"source\"]}')\n",
    "                    remote_read += ss['nbytes']\n",
    "                    transfer_time += ss['stop'] - ss['start'] \n",
    "                else:\n",
    "                    local_read += ss['start']\n",
    "                    \n",
    "        print(f'local read: {local_read}, remote read: {remote_read}')            \n",
    "        print(f'# of tasks: {len(taskstat)}\\nTransmit time: {transfer_time}\\nCpu time: {cpu_time}\\nRemote read: {remote_read}')\n",
    "        \n",
    "\n",
    "histfile = '/opt/dask-distributed/benchmark/stats/svd_tall_skinny_matrix_2M_x_4k_85055400.json'\n",
    "build_job_from_file(histfile)"
   ]
  },
  {
   "cell_type": "code",
   "execution_count": null,
   "metadata": {},
   "outputs": [],
   "source": [
    "8064000000"
   ]
  }
 ],
 "metadata": {
  "kernelspec": {
   "display_name": "Python 3",
   "language": "python",
   "name": "python3"
  },
  "language_info": {
   "codemirror_mode": {
    "name": "ipython",
    "version": 3
   },
   "file_extension": ".py",
   "mimetype": "text/x-python",
   "name": "python",
   "nbconvert_exporter": "python",
   "pygments_lexer": "ipython3",
   "version": "3.8.7"
  }
 },
 "nbformat": 4,
 "nbformat_minor": 4
}
