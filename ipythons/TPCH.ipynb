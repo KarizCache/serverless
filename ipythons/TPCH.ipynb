{
 "cells": [
  {
   "cell_type": "code",
   "execution_count": 1,
   "metadata": {},
   "outputs": [],
   "source": [
    "# create tables\n",
    "import dask.dataframe as dd\n",
    "import pandas as pd \n",
    "\n",
    "d = {'col1': [1, 2, 3, 4], 'col2': [5, 6, 7, 8]}\n",
    "df = dd.from_pandas(pd.DataFrame(data=d), npartitions=2)"
   ]
  },
  {
   "cell_type": "code",
   "execution_count": 3,
   "metadata": {},
   "outputs": [],
   "source": [
    "dd.to_parquet(df=df,\n",
    "              path='hdfs://bu-23-115:9000/mania/test1.parquet')"
   ]
  },
  {
   "cell_type": "code",
   "execution_count": null,
   "metadata": {},
   "outputs": [],
   "source": []
  }
 ],
 "metadata": {
  "kernelspec": {
   "display_name": "Python 3",
   "language": "python",
   "name": "python3"
  },
  "language_info": {
   "codemirror_mode": {
    "name": "ipython",
    "version": 3
   },
   "file_extension": ".py",
   "mimetype": "text/x-python",
   "name": "python",
   "nbconvert_exporter": "python",
   "pygments_lexer": "ipython3",
   "version": "3.8.7"
  }
 },
 "nbformat": 4,
 "nbformat_minor": 4
}
