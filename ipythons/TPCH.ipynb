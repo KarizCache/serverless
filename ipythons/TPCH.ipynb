{
 "cells": [
  {
   "cell_type": "code",
   "execution_count": 20,
   "metadata": {},
   "outputs": [],
   "source": [
    "# create tables\n",
    "import dask.dataframe as dd\n",
    "import pandas as pd \n",
    "\n",
    "d = {'col1': [1, 2, 3, 4], 'col2': [5, 6, 7, 8]}\n",
    "df1 = dd.from_pandas(pd.DataFrame(data=d), npartitions=2)"
   ]
  },
  {
   "cell_type": "code",
   "execution_count": 21,
   "metadata": {},
   "outputs": [],
   "source": [
    "dd.to_parquet(df=df1,\n",
    "              path='hdfs://bu-23-115:9000/mania/test1.parquet')"
   ]
  },
  {
   "cell_type": "code",
   "execution_count": 43,
   "metadata": {},
   "outputs": [],
   "source": [
    "lineitem = dd.read_csv('hdfs://bu-23-115:9000/tpch/in/lineitem/lineitem.tbl.*', \n",
    "                       delimiter='|', \n",
    "                       names=['l_orderkey', 'l_partkey', 'l_suppkey', 'l_linenumber', \n",
    "                              'l_quantity', 'l_extendedprice', 'l_discount', 'l_tax', \n",
    "                              'l_returnflag', 'l_linestatus', 'l_shipdate', \n",
    "                              'l_commitdate', 'l_receiptdate', 'l_shipinstruct',\n",
    "                              'l_shipmode', 'l_comment']) "
   ]
  },
  {
   "cell_type": "code",
   "execution_count": 44,
   "metadata": {},
   "outputs": [
    {
     "data": {
      "text/html": [
       "<div><strong>Dask DataFrame Structure:</strong></div>\n",
       "<div>\n",
       "<style scoped>\n",
       "    .dataframe tbody tr th:only-of-type {\n",
       "        vertical-align: middle;\n",
       "    }\n",
       "\n",
       "    .dataframe tbody tr th {\n",
       "        vertical-align: top;\n",
       "    }\n",
       "\n",
       "    .dataframe thead tr th {\n",
       "        text-align: left;\n",
       "    }\n",
       "\n",
       "    .dataframe thead tr:last-of-type th {\n",
       "        text-align: right;\n",
       "    }\n",
       "</style>\n",
       "<table border=\"1\" class=\"dataframe\">\n",
       "  <thead>\n",
       "    <tr>\n",
       "      <th></th>\n",
       "      <th>l_quantity</th>\n",
       "      <th>l_extendedprice</th>\n",
       "      <th>l_discount</th>\n",
       "    </tr>\n",
       "    <tr>\n",
       "      <th></th>\n",
       "      <th>count</th>\n",
       "      <th>custom_mean</th>\n",
       "      <th>custom_mean</th>\n",
       "    </tr>\n",
       "    <tr>\n",
       "      <th>npartitions=1</th>\n",
       "      <th></th>\n",
       "      <th></th>\n",
       "      <th></th>\n",
       "    </tr>\n",
       "  </thead>\n",
       "  <tbody>\n",
       "    <tr>\n",
       "      <th></th>\n",
       "      <td>int64</td>\n",
       "      <td>float64</td>\n",
       "      <td>float64</td>\n",
       "    </tr>\n",
       "    <tr>\n",
       "      <th></th>\n",
       "      <td>...</td>\n",
       "      <td>...</td>\n",
       "      <td>...</td>\n",
       "    </tr>\n",
       "  </tbody>\n",
       "</table>\n",
       "</div>\n",
       "<div>Dask Name: aggregate-agg, 64 tasks</div>"
      ],
      "text/plain": [
       "Dask DataFrame Structure:\n",
       "              l_quantity l_extendedprice  l_discount\n",
       "                   count     custom_mean custom_mean\n",
       "npartitions=1                                       \n",
       "                   int64         float64     float64\n",
       "                     ...             ...         ...\n",
       "Dask Name: aggregate-agg, 64 tasks"
      ]
     },
     "execution_count": 44,
     "metadata": {},
     "output_type": "execute_result"
    }
   ],
   "source": [
    "custom_sum = dd.Aggregation(\n",
    "    name='custom_sum',\n",
    "    chunk=lambda s: s.sum(),\n",
    "    agg=lambda s0: s0.sum())\n",
    "\n",
    "custom_mean = dd.Aggregation(\n",
    "     name='custom_mean',\n",
    "     chunk=lambda s: (s.count(), s.sum()),\n",
    "     agg=lambda count, sum: (count.sum(), sum.sum()),\n",
    "     finalize=lambda count, sum: sum / count )  # doctest: +SKIP\n",
    "\n",
    "\n",
    "custom_decrease = dd.Aggregation(\n",
    "    name='custom_decrease',\n",
    "    chunk=lambda x, y: (x, (1 - y)),\n",
    "    agg=lambda x0, y0: (x0, y0),\n",
    "    finalize=lambda x0, y0: x0*y0 )\n",
    "\n",
    "custom_increase = dd.Aggregation(\n",
    "    name='custom_increase',\n",
    "    chunk=lambda x, y: (x, (1 + y)),\n",
    "    agg=lambda x0, y0: (x0, y0),\n",
    "    finalize=lambda x0, y0: x0*y0 )\n",
    "\n",
    "\n",
    "custom_sum = dd.Aggregation(\n",
    "    name='custom_sum',\n",
    "    chunk=lambda s: s.sum(),\n",
    "    agg=lambda s0: s0.sum())\n",
    "\n",
    "\n",
    "lineitem.query('l_shipdate <= \"1998-09-02\"').groupby(by=['l_returnflag', 'l_linestatus'])\\\n",
    ".agg({'l_quantity': [custom_sum],\n",
    "     'l_extendedprice': [custom_sum],\n",
    "     'l_quantity': [custom_mean],\n",
    "     'l_extendedprice': [custom_mean],\n",
    "     'l_discount': [custom_mean],\n",
    "     'l_quantity': ['count']})#.sort_values(by=['l_returnflag', 'l_linestatus'])"
   ]
  },
  {
   "cell_type": "code",
   "execution_count": null,
   "metadata": {},
   "outputs": [],
   "source": []
  }
 ],
 "metadata": {
  "kernelspec": {
   "display_name": "Python 3",
   "language": "python",
   "name": "python3"
  },
  "language_info": {
   "codemirror_mode": {
    "name": "ipython",
    "version": 3
   },
   "file_extension": ".py",
   "mimetype": "text/x-python",
   "name": "python",
   "nbconvert_exporter": "python",
   "pygments_lexer": "ipython3",
   "version": "3.8.7"
  }
 },
 "nbformat": 4,
 "nbformat_minor": 4
}
